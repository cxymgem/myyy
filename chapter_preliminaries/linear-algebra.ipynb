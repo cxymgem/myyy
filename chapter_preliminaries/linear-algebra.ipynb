{
  "cells": [
    {
      "cell_type": "code",
      "execution_count": 1,
      "id": "dc36b473",
      "metadata": {
        "execution": {
          "iopub.execute_input": "2023-08-18T19:41:51.529162Z",
          "iopub.status.busy": "2023-08-18T19:41:51.528467Z",
          "iopub.status.idle": "2023-08-18T19:41:53.438267Z",
          "shell.execute_reply": "2023-08-18T19:41:53.437059Z"
        },
        "origin_pos": 3,
        "tab": [
          "pytorch"
        ],
        "id": "dc36b473"
      },
      "outputs": [],
      "source": [
        "import torch"
      ]
    },
    {
      "cell_type": "code",
      "execution_count": 2,
      "id": "4fc9ba1d",
      "metadata": {
        "execution": {
          "iopub.execute_input": "2023-08-18T19:41:53.442690Z",
          "iopub.status.busy": "2023-08-18T19:41:53.442040Z",
          "iopub.status.idle": "2023-08-18T19:41:53.472277Z",
          "shell.execute_reply": "2023-08-18T19:41:53.471491Z"
        },
        "origin_pos": 8,
        "tab": [
          "pytorch"
        ],
        "id": "4fc9ba1d",
        "outputId": "9ae25f28-8474-4b32-e6e0-0a40d951c9c4",
        "colab": {
          "base_uri": "https://localhost:8080/"
        }
      },
      "outputs": [
        {
          "output_type": "execute_result",
          "data": {
            "text/plain": [
              "(tensor(5.), tensor(6.), tensor(1.5000), tensor(9.))"
            ]
          },
          "metadata": {},
          "execution_count": 2
        }
      ],
      "source": [
        "x = torch.tensor(3.0)\n",
        "y = torch.tensor(2.0)\n",
        "\n",
        "x + y, x * y, x / y, x**y"
      ]
    },
    {
      "cell_type": "code",
      "execution_count": 3,
      "id": "91cd966f",
      "metadata": {
        "execution": {
          "iopub.execute_input": "2023-08-18T19:41:53.475759Z",
          "iopub.status.busy": "2023-08-18T19:41:53.475141Z",
          "iopub.status.idle": "2023-08-18T19:41:53.481106Z",
          "shell.execute_reply": "2023-08-18T19:41:53.479872Z"
        },
        "origin_pos": 13,
        "tab": [
          "pytorch"
        ],
        "id": "91cd966f",
        "outputId": "d41f5b49-1f13-4613-efe4-0e0b6c399636",
        "colab": {
          "base_uri": "https://localhost:8080/"
        }
      },
      "outputs": [
        {
          "output_type": "execute_result",
          "data": {
            "text/plain": [
              "tensor([0, 1, 2])"
            ]
          },
          "metadata": {},
          "execution_count": 3
        }
      ],
      "source": [
        "x = torch.arange(3)\n",
        "x"
      ]
    },
    {
      "cell_type": "code",
      "execution_count": 4,
      "id": "ba15a197",
      "metadata": {
        "execution": {
          "iopub.execute_input": "2023-08-18T19:41:53.485066Z",
          "iopub.status.busy": "2023-08-18T19:41:53.484260Z",
          "iopub.status.idle": "2023-08-18T19:41:53.492710Z",
          "shell.execute_reply": "2023-08-18T19:41:53.491415Z"
        },
        "origin_pos": 17,
        "tab": [
          "pytorch"
        ],
        "id": "ba15a197",
        "outputId": "f8aaad90-803b-485a-9a8a-3aaf7385fc16",
        "colab": {
          "base_uri": "https://localhost:8080/"
        }
      },
      "outputs": [
        {
          "output_type": "execute_result",
          "data": {
            "text/plain": [
              "tensor(2)"
            ]
          },
          "metadata": {},
          "execution_count": 4
        }
      ],
      "source": [
        "x[2]"
      ]
    },
    {
      "cell_type": "code",
      "execution_count": 6,
      "id": "871cd7e6",
      "metadata": {
        "execution": {
          "iopub.execute_input": "2023-08-18T19:41:53.497529Z",
          "iopub.status.busy": "2023-08-18T19:41:53.496794Z",
          "iopub.status.idle": "2023-08-18T19:41:53.502332Z",
          "shell.execute_reply": "2023-08-18T19:41:53.501510Z"
        },
        "origin_pos": 19,
        "tab": [
          "pytorch"
        ],
        "id": "871cd7e6",
        "outputId": "755563d3-a9b0-46c3-d6d6-81b28bf2eb85",
        "colab": {
          "base_uri": "https://localhost:8080/"
        }
      },
      "outputs": [
        {
          "output_type": "execute_result",
          "data": {
            "text/plain": [
              "3"
            ]
          },
          "metadata": {},
          "execution_count": 6
        }
      ],
      "source": [
        "len(x)"
      ]
    },
    {
      "cell_type": "code",
      "execution_count": 7,
      "id": "34ea04c3",
      "metadata": {
        "execution": {
          "iopub.execute_input": "2023-08-18T19:41:53.505748Z",
          "iopub.status.busy": "2023-08-18T19:41:53.505180Z",
          "iopub.status.idle": "2023-08-18T19:41:53.510136Z",
          "shell.execute_reply": "2023-08-18T19:41:53.509337Z"
        },
        "origin_pos": 21,
        "tab": [
          "pytorch"
        ],
        "id": "34ea04c3",
        "outputId": "fddf177b-a79a-4b46-cd70-ad46420d1d98",
        "colab": {
          "base_uri": "https://localhost:8080/"
        }
      },
      "outputs": [
        {
          "output_type": "execute_result",
          "data": {
            "text/plain": [
              "torch.Size([3])"
            ]
          },
          "metadata": {},
          "execution_count": 7
        }
      ],
      "source": [
        "x.shape"
      ]
    },
    {
      "cell_type": "code",
      "execution_count": 5,
      "id": "80c49751",
      "metadata": {
        "execution": {
          "iopub.execute_input": "2023-08-18T19:41:53.513569Z",
          "iopub.status.busy": "2023-08-18T19:41:53.512931Z",
          "iopub.status.idle": "2023-08-18T19:41:53.518545Z",
          "shell.execute_reply": "2023-08-18T19:41:53.517740Z"
        },
        "origin_pos": 24,
        "tab": [
          "pytorch"
        ],
        "id": "80c49751",
        "outputId": "3c049368-cad0-4387-d73c-16c24b9b30eb",
        "colab": {
          "base_uri": "https://localhost:8080/"
        }
      },
      "outputs": [
        {
          "output_type": "execute_result",
          "data": {
            "text/plain": [
              "tensor([[0, 1],\n",
              "        [2, 3],\n",
              "        [4, 5]])"
            ]
          },
          "metadata": {},
          "execution_count": 5
        }
      ],
      "source": [
        "A = torch.arange(6).reshape(3, 2)\n",
        "A"
      ]
    },
    {
      "cell_type": "code",
      "execution_count": 8,
      "id": "7ef1e23b",
      "metadata": {
        "execution": {
          "iopub.execute_input": "2023-08-18T19:41:53.521874Z",
          "iopub.status.busy": "2023-08-18T19:41:53.521332Z",
          "iopub.status.idle": "2023-08-18T19:41:53.526566Z",
          "shell.execute_reply": "2023-08-18T19:41:53.525812Z"
        },
        "origin_pos": 28,
        "tab": [
          "pytorch"
        ],
        "id": "7ef1e23b",
        "outputId": "4fedb1d8-184d-4493-ab46-fcad4a2de7b7",
        "colab": {
          "base_uri": "https://localhost:8080/"
        }
      },
      "outputs": [
        {
          "output_type": "execute_result",
          "data": {
            "text/plain": [
              "tensor([[0, 2, 4],\n",
              "        [1, 3, 5]])"
            ]
          },
          "metadata": {},
          "execution_count": 8
        }
      ],
      "source": [
        "A.T"
      ]
    },
    {
      "cell_type": "code",
      "execution_count": 9,
      "id": "028e06ed",
      "metadata": {
        "execution": {
          "iopub.execute_input": "2023-08-18T19:41:53.529939Z",
          "iopub.status.busy": "2023-08-18T19:41:53.529400Z",
          "iopub.status.idle": "2023-08-18T19:41:53.535337Z",
          "shell.execute_reply": "2023-08-18T19:41:53.534568Z"
        },
        "origin_pos": 32,
        "tab": [
          "pytorch"
        ],
        "id": "028e06ed",
        "outputId": "6c2c30e9-69de-4f1a-bf0d-073544d62662",
        "colab": {
          "base_uri": "https://localhost:8080/"
        }
      },
      "outputs": [
        {
          "output_type": "execute_result",
          "data": {
            "text/plain": [
              "tensor([[True, True, True],\n",
              "        [True, True, True],\n",
              "        [True, True, True]])"
            ]
          },
          "metadata": {},
          "execution_count": 9
        }
      ],
      "source": [
        "A = torch.tensor([[1, 2, 3], [2, 0, 4], [3, 4, 5]])\n",
        "A == A.T"
      ]
    },
    {
      "cell_type": "code",
      "execution_count": 10,
      "id": "306d610e",
      "metadata": {
        "execution": {
          "iopub.execute_input": "2023-08-18T19:41:53.538891Z",
          "iopub.status.busy": "2023-08-18T19:41:53.538210Z",
          "iopub.status.idle": "2023-08-18T19:41:53.546164Z",
          "shell.execute_reply": "2023-08-18T19:41:53.545027Z"
        },
        "origin_pos": 37,
        "tab": [
          "pytorch"
        ],
        "id": "306d610e",
        "outputId": "02038127-c95e-4b81-f2e9-d7d8b559b925",
        "colab": {
          "base_uri": "https://localhost:8080/"
        }
      },
      "outputs": [
        {
          "output_type": "execute_result",
          "data": {
            "text/plain": [
              "tensor([[[ 0,  1,  2,  3],\n",
              "         [ 4,  5,  6,  7],\n",
              "         [ 8,  9, 10, 11]],\n",
              "\n",
              "        [[12, 13, 14, 15],\n",
              "         [16, 17, 18, 19],\n",
              "         [20, 21, 22, 23]]])"
            ]
          },
          "metadata": {},
          "execution_count": 10
        }
      ],
      "source": [
        "torch.arange(24).reshape(2, 3, 4)"
      ]
    },
    {
      "cell_type": "code",
      "execution_count": 11,
      "id": "53a34bc0",
      "metadata": {
        "execution": {
          "iopub.execute_input": "2023-08-18T19:41:53.550917Z",
          "iopub.status.busy": "2023-08-18T19:41:53.550017Z",
          "iopub.status.idle": "2023-08-18T19:41:53.558241Z",
          "shell.execute_reply": "2023-08-18T19:41:53.557366Z"
        },
        "origin_pos": 42,
        "tab": [
          "pytorch"
        ],
        "id": "53a34bc0",
        "outputId": "a9f886a6-bb85-4c5f-ad4e-1141954c57dd",
        "colab": {
          "base_uri": "https://localhost:8080/"
        }
      },
      "outputs": [
        {
          "output_type": "execute_result",
          "data": {
            "text/plain": [
              "(tensor([[0., 1., 2.],\n",
              "         [3., 4., 5.]]),\n",
              " tensor([[ 0.,  2.,  4.],\n",
              "         [ 6.,  8., 10.]]))"
            ]
          },
          "metadata": {},
          "execution_count": 11
        }
      ],
      "source": [
        "A = torch.arange(6, dtype=torch.float32).reshape(2, 3)\n",
        "B = A.clone()  # Assign a copy of A to B by allocating new memory\n",
        "A, A + B"
      ]
    },
    {
      "cell_type": "code",
      "execution_count": 12,
      "id": "1e2c0645",
      "metadata": {
        "execution": {
          "iopub.execute_input": "2023-08-18T19:41:53.561758Z",
          "iopub.status.busy": "2023-08-18T19:41:53.561198Z",
          "iopub.status.idle": "2023-08-18T19:41:53.567597Z",
          "shell.execute_reply": "2023-08-18T19:41:53.566714Z"
        },
        "origin_pos": 46,
        "tab": [
          "pytorch"
        ],
        "id": "1e2c0645",
        "outputId": "d16ab84b-4653-4a07-be10-a55ef476008d",
        "colab": {
          "base_uri": "https://localhost:8080/"
        }
      },
      "outputs": [
        {
          "output_type": "execute_result",
          "data": {
            "text/plain": [
              "tensor([[ 0.,  1.,  4.],\n",
              "        [ 9., 16., 25.]])"
            ]
          },
          "metadata": {},
          "execution_count": 12
        }
      ],
      "source": [
        "A * B"
      ]
    },
    {
      "cell_type": "code",
      "execution_count": 13,
      "id": "c5c86fb1",
      "metadata": {
        "execution": {
          "iopub.execute_input": "2023-08-18T19:41:53.571034Z",
          "iopub.status.busy": "2023-08-18T19:41:53.570428Z",
          "iopub.status.idle": "2023-08-18T19:41:53.577301Z",
          "shell.execute_reply": "2023-08-18T19:41:53.576396Z"
        },
        "origin_pos": 49,
        "tab": [
          "pytorch"
        ],
        "id": "c5c86fb1",
        "outputId": "b1a80afc-e2c5-4976-b10e-252f87e936e4",
        "colab": {
          "base_uri": "https://localhost:8080/"
        }
      },
      "outputs": [
        {
          "output_type": "execute_result",
          "data": {
            "text/plain": [
              "(tensor([[[ 2,  3,  4,  5],\n",
              "          [ 6,  7,  8,  9],\n",
              "          [10, 11, 12, 13]],\n",
              " \n",
              "         [[14, 15, 16, 17],\n",
              "          [18, 19, 20, 21],\n",
              "          [22, 23, 24, 25]]]),\n",
              " torch.Size([2, 3, 4]))"
            ]
          },
          "metadata": {},
          "execution_count": 13
        }
      ],
      "source": [
        "a = 2\n",
        "X = torch.arange(24).reshape(2, 3, 4)\n",
        "a + X, (a * X).shape"
      ]
    },
    {
      "cell_type": "code",
      "execution_count": 14,
      "id": "5a3c4cbd",
      "metadata": {
        "execution": {
          "iopub.execute_input": "2023-08-18T19:41:53.580908Z",
          "iopub.status.busy": "2023-08-18T19:41:53.580306Z",
          "iopub.status.idle": "2023-08-18T19:41:53.588497Z",
          "shell.execute_reply": "2023-08-18T19:41:53.587623Z"
        },
        "origin_pos": 54,
        "tab": [
          "pytorch"
        ],
        "id": "5a3c4cbd",
        "outputId": "371665da-2eef-48ba-bf9a-3ef85b1f813a",
        "colab": {
          "base_uri": "https://localhost:8080/"
        }
      },
      "outputs": [
        {
          "output_type": "execute_result",
          "data": {
            "text/plain": [
              "(tensor([0., 1., 2.]), tensor(3.))"
            ]
          },
          "metadata": {},
          "execution_count": 14
        }
      ],
      "source": [
        "x = torch.arange(3, dtype=torch.float32)\n",
        "x, x.sum()"
      ]
    },
    {
      "cell_type": "code",
      "execution_count": 15,
      "id": "7594e574",
      "metadata": {
        "execution": {
          "iopub.execute_input": "2023-08-18T19:41:53.593587Z",
          "iopub.status.busy": "2023-08-18T19:41:53.592920Z",
          "iopub.status.idle": "2023-08-18T19:41:53.602105Z",
          "shell.execute_reply": "2023-08-18T19:41:53.600812Z"
        },
        "origin_pos": 58,
        "tab": [
          "pytorch"
        ],
        "id": "7594e574",
        "outputId": "2095f673-29c9-4fac-84f8-5f4852e2caad",
        "colab": {
          "base_uri": "https://localhost:8080/"
        }
      },
      "outputs": [
        {
          "output_type": "execute_result",
          "data": {
            "text/plain": [
              "(torch.Size([2, 3]), tensor(15.))"
            ]
          },
          "metadata": {},
          "execution_count": 15
        }
      ],
      "source": [
        "A.shape, A.sum()"
      ]
    },
    {
      "cell_type": "code",
      "execution_count": 16,
      "id": "14d191be",
      "metadata": {
        "execution": {
          "iopub.execute_input": "2023-08-18T19:41:53.606330Z",
          "iopub.status.busy": "2023-08-18T19:41:53.605594Z",
          "iopub.status.idle": "2023-08-18T19:41:53.612393Z",
          "shell.execute_reply": "2023-08-18T19:41:53.611227Z"
        },
        "origin_pos": 61,
        "tab": [
          "pytorch"
        ],
        "id": "14d191be",
        "outputId": "966782dc-b074-4488-d548-4c47a37e9e7b",
        "colab": {
          "base_uri": "https://localhost:8080/"
        }
      },
      "outputs": [
        {
          "output_type": "execute_result",
          "data": {
            "text/plain": [
              "(torch.Size([2, 3]), torch.Size([3]))"
            ]
          },
          "metadata": {},
          "execution_count": 16
        }
      ],
      "source": [
        "A.shape, A.sum(axis=0).shape"
      ]
    },
    {
      "cell_type": "code",
      "execution_count": 17,
      "id": "ee3c0559",
      "metadata": {
        "execution": {
          "iopub.execute_input": "2023-08-18T19:41:53.615938Z",
          "iopub.status.busy": "2023-08-18T19:41:53.615181Z",
          "iopub.status.idle": "2023-08-18T19:41:53.621919Z",
          "shell.execute_reply": "2023-08-18T19:41:53.620799Z"
        },
        "origin_pos": 64,
        "tab": [
          "pytorch"
        ],
        "id": "ee3c0559",
        "outputId": "16685ec1-43c1-461e-82aa-33f5aed2b6c1",
        "colab": {
          "base_uri": "https://localhost:8080/"
        }
      },
      "outputs": [
        {
          "output_type": "execute_result",
          "data": {
            "text/plain": [
              "(torch.Size([2, 3]), torch.Size([2]))"
            ]
          },
          "metadata": {},
          "execution_count": 17
        }
      ],
      "source": [
        "A.shape, A.sum(axis=1).shape"
      ]
    },
    {
      "cell_type": "code",
      "execution_count": 18,
      "id": "25b99ea4",
      "metadata": {
        "execution": {
          "iopub.execute_input": "2023-08-18T19:41:53.625271Z",
          "iopub.status.busy": "2023-08-18T19:41:53.624779Z",
          "iopub.status.idle": "2023-08-18T19:41:53.631897Z",
          "shell.execute_reply": "2023-08-18T19:41:53.630699Z"
        },
        "origin_pos": 67,
        "tab": [
          "pytorch"
        ],
        "id": "25b99ea4",
        "outputId": "b30431d4-3046-4bbe-f673-6ce76d363193",
        "colab": {
          "base_uri": "https://localhost:8080/"
        }
      },
      "outputs": [
        {
          "output_type": "execute_result",
          "data": {
            "text/plain": [
              "tensor(True)"
            ]
          },
          "metadata": {},
          "execution_count": 18
        }
      ],
      "source": [
        "A.sum(axis=[0, 1]) == A.sum()  # Same as A.sum()"
      ]
    },
    {
      "cell_type": "code",
      "execution_count": 19,
      "id": "9f41e037",
      "metadata": {
        "execution": {
          "iopub.execute_input": "2023-08-18T19:41:53.635407Z",
          "iopub.status.busy": "2023-08-18T19:41:53.634799Z",
          "iopub.status.idle": "2023-08-18T19:41:53.642980Z",
          "shell.execute_reply": "2023-08-18T19:41:53.641833Z"
        },
        "origin_pos": 71,
        "tab": [
          "pytorch"
        ],
        "id": "9f41e037",
        "outputId": "b72903bc-5771-4349-f03f-b6918fc803ba",
        "colab": {
          "base_uri": "https://localhost:8080/"
        }
      },
      "outputs": [
        {
          "output_type": "execute_result",
          "data": {
            "text/plain": [
              "(tensor(2.5000), tensor(2.5000))"
            ]
          },
          "metadata": {},
          "execution_count": 19
        }
      ],
      "source": [
        "A.mean(), A.sum() / A.numel()"
      ]
    },
    {
      "cell_type": "code",
      "execution_count": 20,
      "id": "f268d8be",
      "metadata": {
        "execution": {
          "iopub.execute_input": "2023-08-18T19:41:53.646514Z",
          "iopub.status.busy": "2023-08-18T19:41:53.645792Z",
          "iopub.status.idle": "2023-08-18T19:41:53.653946Z",
          "shell.execute_reply": "2023-08-18T19:41:53.652643Z"
        },
        "origin_pos": 74,
        "tab": [
          "pytorch"
        ],
        "id": "f268d8be",
        "outputId": "40037bcf-9d23-4960-8e73-2798f7e14589",
        "colab": {
          "base_uri": "https://localhost:8080/"
        }
      },
      "outputs": [
        {
          "output_type": "execute_result",
          "data": {
            "text/plain": [
              "(tensor([1.5000, 2.5000, 3.5000]), tensor([1.5000, 2.5000, 3.5000]))"
            ]
          },
          "metadata": {},
          "execution_count": 20
        }
      ],
      "source": [
        "A.mean(axis=0), A.sum(axis=0) / A.shape[0]"
      ]
    },
    {
      "cell_type": "code",
      "execution_count": 21,
      "id": "863c5aca",
      "metadata": {
        "execution": {
          "iopub.execute_input": "2023-08-18T19:41:53.658423Z",
          "iopub.status.busy": "2023-08-18T19:41:53.658026Z",
          "iopub.status.idle": "2023-08-18T19:41:53.666522Z",
          "shell.execute_reply": "2023-08-18T19:41:53.665397Z"
        },
        "origin_pos": 77,
        "tab": [
          "pytorch"
        ],
        "id": "863c5aca",
        "outputId": "cebf4695-44bd-4db4-be7d-f217cfb02447",
        "colab": {
          "base_uri": "https://localhost:8080/"
        }
      },
      "outputs": [
        {
          "output_type": "execute_result",
          "data": {
            "text/plain": [
              "(tensor([[ 3.],\n",
              "         [12.]]),\n",
              " torch.Size([2, 1]))"
            ]
          },
          "metadata": {},
          "execution_count": 21
        }
      ],
      "source": [
        "sum_A = A.sum(axis=1, keepdims=True)\n",
        "sum_A, sum_A.shape"
      ]
    },
    {
      "cell_type": "code",
      "execution_count": 22,
      "id": "93d20f26",
      "metadata": {
        "execution": {
          "iopub.execute_input": "2023-08-18T19:41:53.669896Z",
          "iopub.status.busy": "2023-08-18T19:41:53.669623Z",
          "iopub.status.idle": "2023-08-18T19:41:53.675548Z",
          "shell.execute_reply": "2023-08-18T19:41:53.674706Z"
        },
        "origin_pos": 80,
        "tab": [
          "pytorch"
        ],
        "id": "93d20f26",
        "outputId": "a80d239c-59f6-4e89-d9fc-9c478acc6d34",
        "colab": {
          "base_uri": "https://localhost:8080/"
        }
      },
      "outputs": [
        {
          "output_type": "execute_result",
          "data": {
            "text/plain": [
              "tensor([[0.0000, 0.3333, 0.6667],\n",
              "        [0.2500, 0.3333, 0.4167]])"
            ]
          },
          "metadata": {},
          "execution_count": 22
        }
      ],
      "source": [
        "A / sum_A"
      ]
    },
    {
      "cell_type": "code",
      "execution_count": 23,
      "id": "e2de0ae7",
      "metadata": {
        "execution": {
          "iopub.execute_input": "2023-08-18T19:41:53.678804Z",
          "iopub.status.busy": "2023-08-18T19:41:53.678536Z",
          "iopub.status.idle": "2023-08-18T19:41:53.684437Z",
          "shell.execute_reply": "2023-08-18T19:41:53.683619Z"
        },
        "origin_pos": 82,
        "tab": [
          "pytorch"
        ],
        "id": "e2de0ae7",
        "outputId": "e55f94dc-6b7c-4743-ba6c-f37f53b9d7e4",
        "colab": {
          "base_uri": "https://localhost:8080/"
        }
      },
      "outputs": [
        {
          "output_type": "execute_result",
          "data": {
            "text/plain": [
              "tensor([[0., 1., 2.],\n",
              "        [3., 5., 7.]])"
            ]
          },
          "metadata": {},
          "execution_count": 23
        }
      ],
      "source": [
        "A.cumsum(axis=0)"
      ]
    },
    {
      "cell_type": "code",
      "execution_count": 24,
      "id": "5575e11a",
      "metadata": {
        "execution": {
          "iopub.execute_input": "2023-08-18T19:41:53.687734Z",
          "iopub.status.busy": "2023-08-18T19:41:53.687178Z",
          "iopub.status.idle": "2023-08-18T19:41:53.696147Z",
          "shell.execute_reply": "2023-08-18T19:41:53.695369Z"
        },
        "origin_pos": 86,
        "tab": [
          "pytorch"
        ],
        "id": "5575e11a",
        "outputId": "da3ce65a-6159-447c-dfdc-9945c5aca35c",
        "colab": {
          "base_uri": "https://localhost:8080/"
        }
      },
      "outputs": [
        {
          "output_type": "execute_result",
          "data": {
            "text/plain": [
              "(tensor([0., 1., 2.]), tensor([1., 1., 1.]), tensor(3.))"
            ]
          },
          "metadata": {},
          "execution_count": 24
        }
      ],
      "source": [
        "y = torch.ones(3, dtype = torch.float32)\n",
        "x, y, torch.dot(x, y)"
      ]
    },
    {
      "cell_type": "code",
      "execution_count": 25,
      "id": "b5186254",
      "metadata": {
        "execution": {
          "iopub.execute_input": "2023-08-18T19:41:53.699396Z",
          "iopub.status.busy": "2023-08-18T19:41:53.698843Z",
          "iopub.status.idle": "2023-08-18T19:41:53.704931Z",
          "shell.execute_reply": "2023-08-18T19:41:53.703664Z"
        },
        "origin_pos": 91,
        "tab": [
          "pytorch"
        ],
        "id": "b5186254",
        "outputId": "c676a7b3-4f21-4cd8-dc79-83e72881a464",
        "colab": {
          "base_uri": "https://localhost:8080/"
        }
      },
      "outputs": [
        {
          "output_type": "execute_result",
          "data": {
            "text/plain": [
              "tensor(3.)"
            ]
          },
          "metadata": {},
          "execution_count": 25
        }
      ],
      "source": [
        "torch.sum(x * y)"
      ]
    },
    {
      "cell_type": "code",
      "execution_count": 26,
      "id": "1a99c29a",
      "metadata": {
        "execution": {
          "iopub.execute_input": "2023-08-18T19:41:53.710181Z",
          "iopub.status.busy": "2023-08-18T19:41:53.709041Z",
          "iopub.status.idle": "2023-08-18T19:41:53.719479Z",
          "shell.execute_reply": "2023-08-18T19:41:53.718068Z"
        },
        "origin_pos": 99,
        "tab": [
          "pytorch"
        ],
        "id": "1a99c29a",
        "outputId": "77d30751-6452-496a-d9a5-145bb7f9522b",
        "colab": {
          "base_uri": "https://localhost:8080/"
        }
      },
      "outputs": [
        {
          "output_type": "execute_result",
          "data": {
            "text/plain": [
              "(torch.Size([2, 3]), torch.Size([3]), tensor([ 5., 14.]), tensor([ 5., 14.]))"
            ]
          },
          "metadata": {},
          "execution_count": 26
        }
      ],
      "source": [
        "A.shape, x.shape, torch.mv(A, x), A@x"
      ]
    },
    {
      "cell_type": "code",
      "execution_count": 27,
      "id": "99535047",
      "metadata": {
        "execution": {
          "iopub.execute_input": "2023-08-18T19:41:53.723651Z",
          "iopub.status.busy": "2023-08-18T19:41:53.722762Z",
          "iopub.status.idle": "2023-08-18T19:41:53.732227Z",
          "shell.execute_reply": "2023-08-18T19:41:53.731088Z"
        },
        "origin_pos": 104,
        "tab": [
          "pytorch"
        ],
        "id": "99535047",
        "outputId": "aa8a8c5a-11bc-4b8a-97f7-76db0748d21a",
        "colab": {
          "base_uri": "https://localhost:8080/"
        }
      },
      "outputs": [
        {
          "output_type": "execute_result",
          "data": {
            "text/plain": [
              "(tensor([[ 3.,  3.,  3.,  3.],\n",
              "         [12., 12., 12., 12.]]),\n",
              " tensor([[ 3.,  3.,  3.,  3.],\n",
              "         [12., 12., 12., 12.]]))"
            ]
          },
          "metadata": {},
          "execution_count": 27
        }
      ],
      "source": [
        "B = torch.ones(3, 4)\n",
        "torch.mm(A, B), A@B"
      ]
    },
    {
      "cell_type": "code",
      "execution_count": 28,
      "id": "e215c544",
      "metadata": {
        "execution": {
          "iopub.execute_input": "2023-08-18T19:41:53.735890Z",
          "iopub.status.busy": "2023-08-18T19:41:53.735108Z",
          "iopub.status.idle": "2023-08-18T19:41:53.742412Z",
          "shell.execute_reply": "2023-08-18T19:41:53.741311Z"
        },
        "origin_pos": 109,
        "tab": [
          "pytorch"
        ],
        "id": "e215c544",
        "outputId": "a41ae3fa-0df8-47e8-989f-04dcd1a4c559",
        "colab": {
          "base_uri": "https://localhost:8080/"
        }
      },
      "outputs": [
        {
          "output_type": "execute_result",
          "data": {
            "text/plain": [
              "tensor(5.)"
            ]
          },
          "metadata": {},
          "execution_count": 28
        }
      ],
      "source": [
        "u = torch.tensor([3.0, -4.0])\n",
        "torch.norm(u)"
      ]
    },
    {
      "cell_type": "code",
      "execution_count": 29,
      "id": "8a3e0562",
      "metadata": {
        "execution": {
          "iopub.execute_input": "2023-08-18T19:41:53.746107Z",
          "iopub.status.busy": "2023-08-18T19:41:53.745359Z",
          "iopub.status.idle": "2023-08-18T19:41:53.752438Z",
          "shell.execute_reply": "2023-08-18T19:41:53.751302Z"
        },
        "origin_pos": 114,
        "tab": [
          "pytorch"
        ],
        "id": "8a3e0562",
        "outputId": "7f89fd9a-952e-462f-fa0c-8ebde2262560",
        "colab": {
          "base_uri": "https://localhost:8080/"
        }
      },
      "outputs": [
        {
          "output_type": "execute_result",
          "data": {
            "text/plain": [
              "tensor(7.)"
            ]
          },
          "metadata": {},
          "execution_count": 29
        }
      ],
      "source": [
        "torch.abs(u).sum()"
      ]
    },
    {
      "cell_type": "code",
      "execution_count": 30,
      "id": "3e00a124",
      "metadata": {
        "execution": {
          "iopub.execute_input": "2023-08-18T19:41:53.756072Z",
          "iopub.status.busy": "2023-08-18T19:41:53.755281Z",
          "iopub.status.idle": "2023-08-18T19:41:53.762237Z",
          "shell.execute_reply": "2023-08-18T19:41:53.761172Z"
        },
        "origin_pos": 119,
        "tab": [
          "pytorch"
        ],
        "id": "3e00a124",
        "outputId": "d09df699-83e4-4e75-86b2-a25033c98d66",
        "colab": {
          "base_uri": "https://localhost:8080/"
        }
      },
      "outputs": [
        {
          "output_type": "execute_result",
          "data": {
            "text/plain": [
              "tensor(6.)"
            ]
          },
          "metadata": {},
          "execution_count": 30
        }
      ],
      "source": [
        "torch.norm(torch.ones((4, 9)))"
      ]
    }
  ],
  "metadata": {
    "kernelspec": {
      "display_name": "Python 3",
      "name": "python3"
    },
    "language_info": {
      "name": "python"
    },
    "required_libs": [],
    "colab": {
      "provenance": []
    }
  },
  "nbformat": 4,
  "nbformat_minor": 5
}